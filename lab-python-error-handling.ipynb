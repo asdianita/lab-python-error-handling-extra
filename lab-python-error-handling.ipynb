{
 "cells": [
  {
   "cell_type": "markdown",
   "id": "25d7736c-ba17-4aff-b6bb-66eba20fbf4e",
   "metadata": {},
   "source": [
    "# Lab | Error Handling"
   ]
  },
  {
   "cell_type": "markdown",
   "id": "6f8e446f-16b4-4e21-92e7-9d3d1eb551b6",
   "metadata": {},
   "source": [
    "Objective: Practice how to identify, handle and recover from potential errors in Python code using try-except blocks."
   ]
  },
  {
   "cell_type": "markdown",
   "id": "e253e768-aed8-4791-a800-87add1204afa",
   "metadata": {},
   "source": [
    "## Challenge \n",
    "\n",
    "Paste here your lab *functions* solutions. Apply error handling techniques to each function using try-except blocks. "
   ]
  },
  {
   "cell_type": "markdown",
   "id": "9180ff86-c3fe-4152-a609-081a287fa1af",
   "metadata": {},
   "source": [
    "The try-except block in Python is designed to handle exceptions and provide a fallback mechanism when code encounters errors. By enclosing the code that could potentially throw errors in a try block, followed by specific or general exception handling in the except block, we can gracefully recover from errors and continue program execution.\n",
    "\n",
    "However, there may be cases where an input may not produce an immediate error, but still needs to be addressed. In such situations, it can be useful to explicitly raise an error using the \"raise\" keyword, either to draw attention to the issue or handle it elsewhere in the program.\n",
    "\n",
    "Modify the code to handle possible errors in Python, it is recommended to use `try-except-else-finally` blocks, incorporate the `raise` keyword where necessary, and print meaningful error messages to alert users of any issues that may occur during program execution.\n",
    "\n"
   ]
  },
  {
   "cell_type": "code",
   "execution_count": 1,
   "id": "cc2c441d-9dcf-4817-b097-cf6cbe440846",
   "metadata": {},
   "outputs": [],
   "source": [
    "# your code goes here"
   ]
  },
  {
   "cell_type": "code",
   "execution_count": 2,
   "id": "afdbf99a",
   "metadata": {},
   "outputs": [],
   "source": [
    "#1. Define a function named `initialize_inventory` that takes `products` \n",
    "# as a parameter. Inside the function, implement the code for initializing \n",
    "# the inventory dictionary using a loop and user input.\n",
    "\n",
    "def initialize_inventory(products):\n",
    "    inventory = {}\n",
    "    for product in products:\n",
    "        valid_input = False\n",
    "        while not valid_input:\n",
    "            try:\n",
    "                quantity = int(input(f\"Enter the quantity of {product}s available: \"))\n",
    "                if quantity >= 0:\n",
    "                    inventory[product] = quantity\n",
    "                    valid_input = True\n",
    "                else:\n",
    "                    print(\"Quantity cannot be negative. Please enter a valid quantity.\")\n",
    "            except ValueError:\n",
    "                print(\"Invalid input. Please enter a valid quantity.\")\n",
    "    print(f\"Those are the items in the inventory:{inventory}\")\n",
    "    return inventory"
   ]
  },
  {
   "cell_type": "code",
   "execution_count": 3,
   "id": "9451656e",
   "metadata": {},
   "outputs": [],
   "source": [
    "#2. Define a function named `get_customer_orders` that takes no parameters. \n",
    "# Inside the function, implement the code for prompting the user to enter the \n",
    "# product names using a loop. The function should return the `customer_orders` set.\n",
    "\n",
    "def get_customer_orders(inventory):\n",
    "\n",
    "    customer_orders = set()\n",
    "    dispo = 0\n",
    "    dispo += sum(1 for cantidad in inventory.values() if cantidad > 0) # No puede comprar un producto si su cantidad es 0.\n",
    "    \n",
    "    valid_input = False\n",
    "    while not valid_input:\n",
    "        try:\n",
    "            number_of_pos = int(input(f\"Please type how many products you want to buy. We have {dispo} available.\"))\n",
    "            if number_of_pos >= 0 and number_of_pos <=dispo:\n",
    "                valid_input = True\n",
    "                valid_order = False\n",
    "                while not valid_order:\n",
    "                    orders = input(\"Please choose a product from the list.\")\n",
    "                    if orders in inventory and inventory[orders]>0:\n",
    "                        customer_orders.add(orders)\n",
    "                        if len(customer_orders)==number_of_pos:\n",
    "                            valid_order = True\n",
    "                    elif orders in inventory and inventory[orders]<=0:\n",
    "                        print(\"Sorry, that product does not have units available.\")\n",
    "                    else:\n",
    "                        print(\"Invalid input. Please enter a product from the list.\")\n",
    "            elif number_of_pos > dispo:\n",
    "                print(\"Quantity cannot be bigger than the products available. Please enter a valid quantity.\")\n",
    "            else:\n",
    "                print(\"Quantity cannot be negative. Please enter a valid quantity.\")\n",
    "        except ValueError:\n",
    "            print(\"Invalid input. Please enter a valid quantity.\")\n",
    " \n",
    "    print(f\"Those are the items in the customer order:{customer_orders}\")    \n",
    "    return customer_orders"
   ]
  },
  {
   "cell_type": "code",
   "execution_count": 4,
   "id": "83b97296",
   "metadata": {},
   "outputs": [],
   "source": [
    "#3. Define a function named `update_inventory` that takes `customer_orders` \n",
    "# and `inventory` as parameters. Inside the function, implement the code for \n",
    "# updating the inventory dictionary based on the customer orders.\n",
    "\n",
    "def update_inventory(inventory,customer_orders):\n",
    "    purchases = {}\n",
    "    for item in customer_orders:\n",
    "        qty_value = False\n",
    "        while not qty_value:\n",
    "            try:\n",
    "                qty = int(input(f\"Enter the quantity of {item} you want to purchase: \"))\n",
    "                if qty > inventory[item] or qty < 0:\n",
    "                    print(f\"Sorry, we only have {inventory[item]} units of {item} available\")\n",
    "                else:\n",
    "                    purchases[item] = qty\n",
    "                    qty_value = True\n",
    "            except ValueError:\n",
    "                print(\"Invalid input. Please enter a valid quantity.\")\n",
    "        # Actualiza el inventario restando los items comprados.\n",
    "    print(f\"Those are the items purchased:{purchases}\")\n",
    "    \n",
    "    for item in customer_orders:\n",
    "        inventory[item] -= purchases[item]\n",
    "\n",
    "    return inventory, purchases"
   ]
  },
  {
   "cell_type": "code",
   "execution_count": 5,
   "id": "187fda73",
   "metadata": {},
   "outputs": [],
   "source": [
    "#4. Define a function named `calculate_order_statistics` that takes \n",
    "# `customer_orders` and `inventory` as parameters. Inside the function, \n",
    "# implement the code for calculating the order statistics (total products \n",
    "# ordered, and percentage of unique products ordered). The function should \n",
    "# return these values.\n",
    "\n",
    "def calculate_order_statistics(customer_orders,inventory,purchases):\n",
    "\n",
    "    suma = 0\n",
    "    for items in customer_orders:\n",
    "        suma += purchases[items]\n",
    "\n",
    "    percentages = {}\n",
    "    for items in customer_orders:\n",
    "        percentages[items] = str.format(\"{:.2f}%\", purchases[items]*100/(inventory[items]+purchases[items]))\n",
    "\n",
    "    order_status = (suma,percentages)\n",
    "    return order_status"
   ]
  },
  {
   "cell_type": "code",
   "execution_count": 6,
   "id": "903ff4ca",
   "metadata": {},
   "outputs": [],
   "source": [
    "#5. Define a function named `print_order_statistics` that takes \n",
    "# `order_statistics` as a parameter. Inside the function, implement \n",
    "# the code for printing the order statistics.\n",
    "\n",
    "def print_order_statistics(order_statistics):\n",
    "    print(f'''\n",
    "        Order Statistics:\n",
    "        Total Products Ordered: {order_statistics[0]}\n",
    "        Percentage of Products Ordered: {order_statistics[1]} \n",
    "        ''')\n",
    "\n",
    "#6. Define a function named `print_updated_inventory` that takes \n",
    "# `inventory` as a parameter. Inside the function, implement the code \n",
    "# for printing the updated inventory.\n",
    "\n",
    "def print_updated_inventory(inventory):\n",
    "    print(f\"This is the updated inventory:{inventory}\")\n"
   ]
  },
  {
   "cell_type": "code",
   "execution_count": 7,
   "id": "8eb2b856",
   "metadata": {},
   "outputs": [
    {
     "name": "stdout",
     "output_type": "stream",
     "text": [
      "Invalid input. Please enter a valid quantity.\n",
      "Those are the items in the inventory:{'t-shirt': 0, 'mug': 1, 'hat': 5, 'book': 10, 'keychain': 15}\n",
      "Quantity cannot be bigger than the products available. Please enter a valid quantity.\n",
      "Invalid input. Please enter a product from the list.\n",
      "Those are the items in the customer order:{'keychain', 'book', 'hat', 'mug'}\n",
      "Invalid input. Please enter a valid quantity.\n",
      "Sorry, we only have 15 units of keychain available\n",
      "Sorry, we only have 15 units of keychain available\n",
      "Invalid input. Please enter a valid quantity.\n",
      "Invalid input. Please enter a valid quantity.\n",
      "Invalid input. Please enter a valid quantity.\n",
      "Invalid input. Please enter a valid quantity.\n",
      "Those are the items purchased:{'keychain': 5, 'book': 5, 'hat': 2, 'mug': 1}\n",
      "\n",
      "        Order Statistics:\n",
      "        Total Products Ordered: 13\n",
      "        Percentage of Products Ordered: {'keychain': '33.33%', 'book': '50.00%', 'hat': '40.00%', 'mug': '100.00%'} \n",
      "        \n",
      "This is the updated inventory:{'t-shirt': 0, 'mug': 0, 'hat': 3, 'book': 5, 'keychain': 10}\n"
     ]
    }
   ],
   "source": [
    "#7. Call the functions in the appropriate sequence to execute the \n",
    "# program and manage customer orders.\n",
    "\n",
    "products = [\"t-shirt\", \"mug\", \"hat\", \"book\", \"keychain\"]\n",
    "inventory = initialize_inventory(products)\n",
    "\n",
    "customer_orders = get_customer_orders(inventory)\n",
    "\n",
    "inventory_updated,purchases = update_inventory(inventory,customer_orders)\n",
    "\n",
    "order_statistics = calculate_order_statistics(customer_orders,inventory,purchases)\n",
    "\n",
    "order_statistics_print = print_order_statistics(order_statistics)\n",
    "\n",
    "updated_inventory_print = print_updated_inventory(inventory)"
   ]
  }
 ],
 "metadata": {
  "kernelspec": {
   "display_name": "Python 3 (ipykernel)",
   "language": "python",
   "name": "python3"
  },
  "language_info": {
   "codemirror_mode": {
    "name": "ipython",
    "version": 3
   },
   "file_extension": ".py",
   "mimetype": "text/x-python",
   "name": "python",
   "nbconvert_exporter": "python",
   "pygments_lexer": "ipython3",
   "version": "3.9.1"
  }
 },
 "nbformat": 4,
 "nbformat_minor": 5
}
